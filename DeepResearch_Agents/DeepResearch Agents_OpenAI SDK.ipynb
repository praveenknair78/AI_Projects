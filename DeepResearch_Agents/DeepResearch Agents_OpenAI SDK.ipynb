{
 "cells": [
  {
   "cell_type": "code",
   "execution_count": 4,
   "id": "9D2uUzug__BW",
   "metadata": {
    "executionInfo": {
     "elapsed": 317,
     "status": "ok",
     "timestamp": 1753219952281,
     "user": {
      "displayName": "Praveen Nair",
      "userId": "10055709875731602505"
     },
     "user_tz": 300
    },
    "id": "9D2uUzug__BW"
   },
   "outputs": [],
   "source": [
    "from openai import AsyncOpenAI\n",
    "from agents import Agent, WebSearchTool, trace, Runner, gen_trace_id, function_tool\n",
    "from agents.model_settings import ModelSettings\n",
    "from pydantic import BaseModel, Field\n",
    "import asyncio\n",
    "from typing import Dict\n",
    "from IPython.display import display, Markdown\n",
    "from dotenv import load_dotenv"
   ]
  },
  {
   "cell_type": "code",
   "execution_count": 8,
   "id": "gH0Tmvc5_yDN",
   "metadata": {
    "executionInfo": {
     "elapsed": 1210,
     "status": "ok",
     "timestamp": 1753220399085,
     "user": {
      "displayName": "Praveen Nair",
      "userId": "10055709875731602505"
     },
     "user_tz": 300
    },
    "id": "gH0Tmvc5_yDN"
   },
   "outputs": [],
   "source": [
    "import os\n",
    "\n",
    "load_dotenv()\n",
    "\n",
    "OPENAI_API_KEY = os.getenv(\"OPENAI_API_KEY\")"
   ]
  },
  {
   "cell_type": "code",
   "execution_count": 9,
   "id": "c5qwtGf-mMCL",
   "metadata": {
    "colab": {
     "base_uri": "https://localhost:8080/"
    },
    "executionInfo": {
     "elapsed": 318,
     "status": "ok",
     "timestamp": 1753220402805,
     "user": {
      "displayName": "Praveen Nair",
      "userId": "10055709875731602505"
     },
     "user_tz": 300
    },
    "id": "c5qwtGf-mMCL",
    "outputId": "9ff07421-442b-4dc0-8ff5-1812133ec4d1"
   },
   "outputs": [
    {
     "name": "stdout",
     "output_type": "stream",
     "text": [
      "OPENAI_API_KEY Key exists and begins sk\n"
     ]
    }
   ],
   "source": [
    "if OPENAI_API_KEY:\n",
    "    print(f\"OPENAI_API_KEY Key exists and begins {OPENAI_API_KEY[:2]}\")\n",
    "else:\n",
    "    print(\"OPENAI_API_KEY Key not set (and this is optional)\")"
   ]
  },
  {
   "cell_type": "code",
   "execution_count": 10,
   "id": "uG163iDMDe1N",
   "metadata": {
    "executionInfo": {
     "elapsed": 292,
     "status": "ok",
     "timestamp": 1753220147831,
     "user": {
      "displayName": "Praveen Nair",
      "userId": "10055709875731602505"
     },
     "user_tz": 300
    },
    "id": "uG163iDMDe1N"
   },
   "outputs": [],
   "source": [
    "model=\"gpt-4o-mini\""
   ]
  },
  {
   "cell_type": "markdown",
   "id": "ZU4ln0xUFUSV",
   "metadata": {
    "id": "ZU4ln0xUFUSV"
   },
   "source": [
    "### OpenAI Hosted Tools\n",
    "OpenAI Agents SDK includes the following hosted tools:\n",
    "\n",
    "- The **WebSearchTool** lets an agent search the web.\n",
    "-The **FileSearchTool** allows retrieving information from your OpenAI Vector Stores.\n",
    "-The **ComputerTool** allows automating computer use tasks like taking screenshots and clicking.\n",
    "\n",
    "Important note - API charge of WebSearchTool\n",
    "This is costing me 2.5 cents per call for OpenAI WebSearchTool.  OpenAI can sometimes charge for multiple searches for a single call, so it could sometimes cost more than 2.5 cents per call.  \n",
    "\n",
    "Costs are here: https://platform.openai.com/docs/pricing#web-search"
   ]
  },
  {
   "cell_type": "markdown",
   "id": "MtEUbVweGBY_",
   "metadata": {
    "id": "MtEUbVweGBY_"
   },
   "source": [
    "* **Using WebSearchTool**"
   ]
  },
  {
   "cell_type": "code",
   "execution_count": 11,
   "id": "eh8_e_DPAlJK",
   "metadata": {
    "executionInfo": {
     "elapsed": 302,
     "status": "ok",
     "timestamp": 1753220326072,
     "user": {
      "displayName": "Praveen Nair",
      "userId": "10055709875731602505"
     },
     "user_tz": 300
    },
    "id": "eh8_e_DPAlJK"
   },
   "outputs": [],
   "source": [
    "INSTRUCTIONS = \"You are a research assistant. Given a search term, you search the web for that term and \\\n",
    "produce a concise summary of the results. Limit the search results to 2. The summary must be less than 100 \\\n",
    "words. Capture the main points. Write succintly, no need to have complete sentences or good \\\n",
    "grammar. This will be consumed by someone synthesizing a report, so it's vital you capture the \\\n",
    "essence and ignore any fluff. Do not include any additional commentary other than the summary itself.\"\n",
    "\n",
    "search_agent = Agent(\n",
    "    name=\"Search agent\",\n",
    "    instructions=INSTRUCTIONS,\n",
    "    tools=[WebSearchTool(search_context_size=\"low\")],\n",
    "    model=model,\n",
    "    model_settings=ModelSettings(tool_choice=\"required\"),\n",
    ")"
   ]
  },
  {
   "cell_type": "code",
   "execution_count": 12,
   "id": "h863_VvRAs4j",
   "metadata": {
    "colab": {
     "base_uri": "https://localhost:8080/",
     "height": 328
    },
    "executionInfo": {
     "elapsed": 4725,
     "status": "ok",
     "timestamp": 1753220355524,
     "user": {
      "displayName": "Praveen Nair",
      "userId": "10055709875731602505"
     },
     "user_tz": 300
    },
    "id": "h863_VvRAs4j",
    "outputId": "fe2ad91b-39a4-486d-cd87-177319e4869c"
   },
   "outputs": [
    {
     "data": {
      "text/markdown": [
       "In 2025, several AI agent frameworks have emerged, each offering unique capabilities:\n",
       "\n",
       "- **Amazon Bedrock AgentCore**: AWS's platform simplifies AI agent development with modular services like AgentCore Runtime for scalable deployment, AgentCore Memory for context management, and AgentCore Identity for secure access. ([techradar.com](https://www.techradar.com/pro/aws-looks-to-super-charge-ai-agents-with-amazon-bedrock-agentcore?utm_source=openai))\n",
       "\n",
       "- **LangChain**: A Python-based framework enabling developers to build custom LLM applications with features like prompt chaining, model integration, and external tool support. ([medium.com](https://medium.com/%40elisowski/top-ai-agent-frameworks-in-2025-9bcedab2e239?utm_source=openai))\n",
       "\n",
       "- **LangGraph**: An extension of LangChain, LangGraph focuses on stateful, graph-based agent workflows, supporting complex interactions and branching logic. ([linkedin.com](https://www.linkedin.com/pulse/top-5-frameworks-building-ai-agents-2025-sahil-malhotra-wmisc?utm_source=openai))\n",
       "\n",
       "- **AutoGen**: Developed by Microsoft, AutoGen facilitates multi-agent systems and code automation through conversation-based coordination and built-in agents. ([medium.com](https://medium.com/%40elisowski/top-ai-agent-frameworks-in-2025-9bcedab2e239?utm_source=openai))\n",
       "\n",
       "- **CrewAI**: This framework emphasizes role-based AI agents, ideal for collaborative problem-solving environments requiring diverse expertise. ([linkedin.com](https://www.linkedin.com/pulse/top-5-frameworks-building-ai-agents-2025-sahil-malhotra-wmisc?utm_source=openai))\n",
       "\n",
       "- **Eliza**: A Web3-friendly AI agent operating system that integrates seamlessly with blockchain applications, enabling efficient deployment of decentralized AI agents. ([arxiv.org](https://arxiv.org/abs/2501.06781?utm_source=openai))\n",
       "\n",
       "- **AutoAgent**: A fully automated, zero-code framework for LLM agents, allowing users to create and deploy agents through natural language instructions. ([arxiv.org](https://arxiv.org/abs/2502.05957?utm_source=openai))\n",
       "\n",
       "These frameworks cater to diverse needs, from scalable LLM applications to collaborative multi-agent systems and Web3 integration. "
      ],
      "text/plain": [
       "<IPython.core.display.Markdown object>"
      ]
     },
     "metadata": {},
     "output_type": "display_data"
    }
   ],
   "source": [
    "message = \"Latest AI Agent frameworks in 2025\"\n",
    "\n",
    "with trace(\"Search\"):\n",
    "    result = await Runner.run(search_agent, message)\n",
    "\n",
    "display(Markdown(result.final_output))"
   ]
  },
  {
   "cell_type": "markdown",
   "id": "nTjvxp14GIOH",
   "metadata": {
    "id": "nTjvxp14GIOH"
   },
   "source": [
    "**We will now use Structured Outputs, and include a description of the fields**"
   ]
  },
  {
   "cell_type": "code",
   "execution_count": 13,
   "id": "Dw6VccTWGL-H",
   "metadata": {
    "executionInfo": {
     "elapsed": 293,
     "status": "ok",
     "timestamp": 1753220806221,
     "user": {
      "displayName": "Praveen Nair",
      "userId": "10055709875731602505"
     },
     "user_tz": 300
    },
    "id": "Dw6VccTWGL-H"
   },
   "outputs": [],
   "source": [
    "# See note above about cost of WebSearchTool\n",
    "\n",
    "HOW_MANY_SEARCHES = 2\n",
    "\n",
    "INSTRUCTIONS = f\"You are a helpful research assistant. Given a query, come up with a set of web searches \\\n",
    "to perform to best answer the query. Output {HOW_MANY_SEARCHES} terms to query for.\"\n",
    "\n",
    "# Use Pydantic to define the Schema of our response - this is known as \"Structured Outputs\"\n",
    "# With massive thanks to student Wes C. for discovering and fixing a nasty bug with this!\n",
    "\n",
    "class WebSearchItem(BaseModel):\n",
    "    reason: str = Field(description=\"Your reasoning for why this search is important to the query.\")\n",
    "    query: str = Field(description=\"The search term to use for the web search.\")\n",
    "\n",
    "\n",
    "class WebSearchPlan(BaseModel):\n",
    "    searches: list[WebSearchItem] = Field(description=\"A list of web searches to perform to best answer the query.\")\n",
    "\n",
    "\n",
    "planner_agent = Agent(\n",
    "    name=\"PlannerAgent\",\n",
    "    instructions=INSTRUCTIONS,\n",
    "    model=model,\n",
    "    output_type=WebSearchPlan,\n",
    ")"
   ]
  },
  {
   "cell_type": "code",
   "execution_count": 14,
   "id": "KLA5p-cMGlfV",
   "metadata": {
    "colab": {
     "base_uri": "https://localhost:8080/"
    },
    "executionInfo": {
     "elapsed": 3831,
     "status": "ok",
     "timestamp": 1753220815083,
     "user": {
      "displayName": "Praveen Nair",
      "userId": "10055709875731602505"
     },
     "user_tz": 300
    },
    "id": "KLA5p-cMGlfV",
    "outputId": "8e6de527-6744-4ec0-efbd-7b23f1a47b09"
   },
   "outputs": [
    {
     "name": "stdout",
     "output_type": "stream",
     "text": [
      "searches=[WebSearchItem(reason='To find the most current information and trends about AI agent frameworks specifically in 2025, including new technologies, advancements, and popular platforms.', query='latest AI agent frameworks 2025'), WebSearchItem(reason='To explore detailed comparisons of different AI frameworks, including their capabilities, applications, and user experiences as of 2025.', query='AI agent frameworks comparison 2025')]\n"
     ]
    }
   ],
   "source": [
    "message = \"Latest AI Agent frameworks in 2025\"\n",
    "\n",
    "with trace(\"Search\"):\n",
    "    result = await Runner.run(planner_agent, message)\n",
    "    print(result.final_output)"
   ]
  },
  {
   "cell_type": "markdown",
   "id": "Fj9N3ROPHtK8",
   "metadata": {
    "id": "Fj9N3ROPHtK8"
   },
   "source": [
    "* Adding email tool and agent"
   ]
  },
  {
   "cell_type": "code",
   "execution_count": 15,
   "id": "MJ2Fo-u3HvUr",
   "metadata": {
    "colab": {
     "base_uri": "https://localhost:8080/"
    },
    "executionInfo": {
     "elapsed": 8,
     "status": "ok",
     "timestamp": 1753221134511,
     "user": {
      "displayName": "Praveen Nair",
      "userId": "10055709875731602505"
     },
     "user_tz": 300
    },
    "id": "MJ2Fo-u3HvUr",
    "outputId": "c2759a4b-be98-4ce1-8e6c-5f69741908af"
   },
   "outputs": [
    {
     "data": {
      "text/plain": [
       "FunctionTool(name='send_email', description='Send out an email with the given subject and HTML body', params_json_schema={'properties': {'subject': {'title': 'Subject', 'type': 'string'}, 'html_body': {'title': 'Html Body', 'type': 'string'}}, 'required': ['subject', 'html_body'], 'title': 'send_email_args', 'type': 'object', 'additionalProperties': False}, on_invoke_tool=<function function_tool.<locals>._create_function_tool.<locals>._on_invoke_tool at 0x12a7ce020>, strict_json_schema=True, is_enabled=True)"
      ]
     },
     "execution_count": 15,
     "metadata": {},
     "output_type": "execute_result"
    }
   ],
   "source": [
    "@function_tool\n",
    "def send_email(subject: str, html_body: str) -> Dict[str, str]:\n",
    "    \"\"\" Send out an email with the given subject and HTML body \"\"\"\n",
    "    print(f\"Sending email with subject '{subject}' and body:\\n{html_body}\")\n",
    "    return {\"status\": \"success\"}\n",
    "\n",
    "send_email"
   ]
  },
  {
   "cell_type": "code",
   "execution_count": 16,
   "id": "23deoF1jIFcm",
   "metadata": {
    "executionInfo": {
     "elapsed": 311,
     "status": "ok",
     "timestamp": 1753221253904,
     "user": {
      "displayName": "Praveen Nair",
      "userId": "10055709875731602505"
     },
     "user_tz": 300
    },
    "id": "23deoF1jIFcm"
   },
   "outputs": [],
   "source": [
    "INSTRUCTIONS = \"\"\"You are able to send a nicely formatted HTML email based on a detailed report.\n",
    "You will be provided with a detailed report. You should use your tool to send one email, providing the\n",
    "report converted into clean, well presented HTML with an appropriate subject line.\"\"\"\n",
    "\n",
    "email_agent = Agent(\n",
    "    name=\"Email agent\",\n",
    "    instructions=INSTRUCTIONS,\n",
    "    tools=[send_email],\n",
    "    model=model,\n",
    ")"
   ]
  },
  {
   "cell_type": "code",
   "execution_count": 17,
   "id": "8jJeZ3YeIiaX",
   "metadata": {
    "executionInfo": {
     "elapsed": 316,
     "status": "ok",
     "timestamp": 1753221353260,
     "user": {
      "displayName": "Praveen Nair",
      "userId": "10055709875731602505"
     },
     "user_tz": 300
    },
    "id": "8jJeZ3YeIiaX"
   },
   "outputs": [],
   "source": [
    "INSTRUCTIONS = (\n",
    "    \"You are a senior researcher tasked with writing a cohesive report for a research query. \"\n",
    "    \"You will be provided with the original query, and some initial research done by a research assistant.\\n\"\n",
    "    \"You should first come up with an outline for the report that describes the structure and \"\n",
    "    \"flow of the report. Then, generate the report and return that as your final output.\\n\"\n",
    "    \"The final output should be in markdown format, and it should be lengthy and detailed. Aim \"\n",
    "    \"for 2-3 pages of content, at least 300 words.\"\n",
    ")\n",
    "\n",
    "class ReportData(BaseModel):\n",
    "    short_summary: str = Field(description=\"A short 2-3 sentence summary of the findings.\")\n",
    "    markdown_report: str = Field(description=\"The final report\")\n",
    "    follow_up_questions: list[str] = Field(description=\"Suggested topics to research further\")\n",
    "\n",
    "\n",
    "writer_agent = Agent(\n",
    "    name=\"WriterAgent\",\n",
    "    instructions=INSTRUCTIONS,\n",
    "    model=model,\n",
    "    output_type=ReportData,\n",
    ")"
   ]
  },
  {
   "cell_type": "markdown",
   "id": "RCKsxFL8IwM9",
   "metadata": {
    "id": "RCKsxFL8IwM9"
   },
   "source": [
    "* The next 3 functions will plan and execute the search, using planner_agent and search_agent"
   ]
  },
  {
   "cell_type": "code",
   "execution_count": 18,
   "id": "lwzN5LvAI3kh",
   "metadata": {
    "executionInfo": {
     "elapsed": 300,
     "status": "ok",
     "timestamp": 1753221537833,
     "user": {
      "displayName": "Praveen Nair",
      "userId": "10055709875731602505"
     },
     "user_tz": 300
    },
    "id": "lwzN5LvAI3kh"
   },
   "outputs": [],
   "source": [
    "async def plan_searches(query: str):\n",
    "    \"\"\" Use the planner_agent to plan which searches to run for the query \"\"\"\n",
    "    print(\"Planning searches...\")\n",
    "    result = await Runner.run(planner_agent, f\"Query: {query}\")\n",
    "    print(f\"Will perform {len(result.final_output.searches)} searches\")\n",
    "    return result.final_output\n",
    "\n",
    "async def perform_searches(search_plan: WebSearchPlan):\n",
    "    \"\"\" Call search() for each item in the search plan \"\"\"\n",
    "    print(\"Searching...\")\n",
    "    tasks = [asyncio.create_task(search(item)) for item in search_plan.searches]\n",
    "    results = await asyncio.gather(*tasks)\n",
    "    print(\"Finished searching\")\n",
    "    return results\n",
    "\n",
    "async def search(item: WebSearchItem):\n",
    "    \"\"\" Use the search agent to run a web search for each item in the search plan \"\"\"\n",
    "    input = f\"Search term: {item.query}\\nReason for searching: {item.reason}\"\n",
    "    result = await Runner.run(search_agent, input)\n",
    "    return result.final_output"
   ]
  },
  {
   "cell_type": "markdown",
   "id": "V8kYIz5BJdaZ",
   "metadata": {
    "id": "V8kYIz5BJdaZ"
   },
   "source": [
    "* The next 2 functions write a report and email it"
   ]
  },
  {
   "cell_type": "code",
   "execution_count": 19,
   "id": "k0hXLRb2Ja_-",
   "metadata": {
    "executionInfo": {
     "elapsed": 315,
     "status": "ok",
     "timestamp": 1753221567102,
     "user": {
      "displayName": "Praveen Nair",
      "userId": "10055709875731602505"
     },
     "user_tz": 300
    },
    "id": "k0hXLRb2Ja_-"
   },
   "outputs": [],
   "source": [
    "async def write_report(query: str, search_results: list[str]):\n",
    "    \"\"\" Use the writer agent to write a report based on the search results\"\"\"\n",
    "    print(\"Thinking about report...\")\n",
    "    input = f\"Original query: {query}\\nSummarized search results: {search_results}\"\n",
    "    result = await Runner.run(writer_agent, input)\n",
    "    print(\"Finished writing report\")\n",
    "    return result.final_output\n",
    "\n",
    "async def send_email(report: ReportData):\n",
    "    \"\"\" Use the email agent to send an email with the report \"\"\"\n",
    "    print(\"Writing email...\")\n",
    "    result = await Runner.run(email_agent, report.markdown_report)\n",
    "    print(\"Email sent\")\n",
    "    return report"
   ]
  },
  {
   "cell_type": "markdown",
   "id": "o9ykak2cJihZ",
   "metadata": {
    "id": "o9ykak2cJihZ"
   },
   "source": [
    "* Show time!!! - Putting all these together"
   ]
  },
  {
   "cell_type": "code",
   "execution_count": 20,
   "id": "J7jthfpGJnJ5",
   "metadata": {
    "colab": {
     "base_uri": "https://localhost:8080/"
    },
    "executionInfo": {
     "elapsed": 62859,
     "status": "ok",
     "timestamp": 1753221711797,
     "user": {
      "displayName": "Praveen Nair",
      "userId": "10055709875731602505"
     },
     "user_tz": 300
    },
    "id": "J7jthfpGJnJ5",
    "outputId": "a8970e55-66ad-4897-e434-1878351184b1"
   },
   "outputs": [
    {
     "name": "stdout",
     "output_type": "stream",
     "text": [
      "Starting research...\n",
      "Planning searches...\n",
      "Will perform 2 searches\n",
      "searches=[WebSearchItem(reason='To find comprehensive information on emerging AI agent frameworks that have been developed or released in 2025.', query='latest AI agent frameworks 2025'), WebSearchItem(reason='To gather insights from industry experts and news articles regarding any trends or notable developments in AI agent technologies in 2025.', query='emerging AI technologies 2025')]\n",
      "Searching...\n",
      "Finished searching\n",
      "['In 2025, several AI agent frameworks have emerged, enhancing the development of intelligent systems:\\n\\n- **Amazon Bedrock AgentCore**: Introduced by AWS, it offers a suite of tools for secure and scalable AI agent deployment, including secure API access and controlled web browsing. ([itpro.com](https://www.itpro.com/cloud/cloud-computing/three-of-the-biggest-announcements-from-aws-summit-new-york?utm_source=openai))\\n\\n- **OpenAI ChatGPT Agent**: Launched in July 2025, this tool autonomously performs complex tasks like calendar management and financial presentations, though OpenAI advises caution for high-stakes uses. ([pcgamer.com](https://www.pcgamer.com/software/ai/openai-just-launched-its-new-chatgpt-agent-that-can-make-as-many-as-1-complicated-cupcake-order-per-hour-but-even-sam-altman-says-you-probably-shouldnt-trust-it-for-high-stakes-uses/?utm_source=openai))\\n\\n- **AutoAgent**: A fully automated, zero-code framework enabling users to create and deploy LLM agents through natural language, facilitating efficient agent development without coding. ([arxiv.org](https://arxiv.org/abs/2502.05957?utm_source=openai))\\n\\n- **Eliza**: An open-source, Web3-friendly AI agent operating system that seamlessly integrates with blockchain applications, allowing for decentralized AI agent deployment. ([arxiv.org](https://arxiv.org/abs/2501.06781?utm_source=openai))\\n\\n- **LangChain**: A robust framework for building LLM-powered applications, addressing challenges like context retention and multi-step task execution. ([linkedin.com](https://www.linkedin.com/pulse/top-5-frameworks-building-ai-agents-2025-sahil-malhotra-wmisc?utm_source=openai))\\n\\n- **LangGraph**: An extension of LangChain, specializing in stateful, multi-agent systems, ideal for complex workflows and adaptive AI applications. ([linkedin.com](https://www.linkedin.com/pulse/top-5-frameworks-building-ai-agents-2025-sahil-malhotra-wmisc?utm_source=openai))\\n\\n- **AutoGen**: Developed by Microsoft, it orchestrates multiple AI agents to form autonomous, event-driven systems capable of handling complex, multi-agent tasks seamlessly. ([linkedin.com](https://www.linkedin.com/pulse/top-5-frameworks-building-ai-agents-2025-sahil-malhotra-wmisc?utm_source=openai))\\n\\n- **CrewAI**: Focused on role-based AI agents, CrewAI is perfect for collaborative problem-solving environments requiring diverse expertise. ([linkedin.com](https://www.linkedin.com/pulse/top-5-frameworks-building-ai-agents-2025-sahil-malhotra-wmisc?utm_source=openai))\\n\\nThese frameworks represent significant advancements in AI agent development, offering diverse tools and capabilities for various applications. ', 'In 2025, AI agent technologies are advancing rapidly, with key developments including:\\n\\n- **Walmart\\'s AI Super Agents**: Walmart introduced AI-powered \"super agents\" like \"Sparky\" to enhance e-commerce by streamlining customer interactions and internal operations. ([reuters.com](https://www.reuters.com/business/retail-consumer/walmart-bets-ai-super-agents-boost-e-commerce-growth-2025-07-24/?utm_source=openai))\\n\\n- **AWS\\'s AgentCore**: Amazon Web Services launched AgentCore, a toolkit for secure and scalable AI agent development, featuring components like Gateway and Browser Tool. ([itpro.com](https://www.itpro.com/cloud/cloud-computing/three-of-the-biggest-announcements-from-aws-summit-new-york?utm_source=openai))\\n\\n- **OpenAI\\'s ChatGPT Agent**: OpenAI unveiled ChatGPT Agent, capable of autonomously performing complex tasks, though with caution advised for high-stakes uses. ([pcgamer.com](https://www.pcgamer.com/software/ai/openai-just-launched-its-new-chatgpt-agent-that-can-make-as-many-as-1-complicated-cupcake-order-per-hour-but-even-sam-altman-says-you-probably-shouldnt-trust-it-for-high-stakes-uses/?utm_source=openai))\\n\\n- **Multi-Agent Collaboration Systems**: The rise of AI agents collaborating to achieve complex tasks, enhancing efficiency across industries. ([superagi.com](https://superagi.com/top-5-agentic-ai-trends-in-2025-from-multi-agent-collaboration-to-self-healing-systems/?utm_source=openai))\\n\\n- **Unified AI Ecosystems**: Integration of various AI agents and tools into cohesive systems for streamlined automation. ([agentclan.ai](https://agentclan.ai/the-future-of-ai-agents-trends-to-watch-in-2025/?utm_source=openai))\\n\\n- **Edge AI and On-Device Intelligence**: Deployment of AI on local devices for real-time processing, driven by privacy concerns and IoT proliferation. ([ts2.tech](https://ts2.tech/en/ai-trends-2025-emerging-technologies-market-insights-and-industry-outlook/?utm_source=openai))\\n\\n- **Quantum Computing Integration**: Exploration of quantum computing to enhance AI agent capabilities, with potential applications in decision-making and optimization. ([arxiv.org](https://arxiv.org/abs/2506.01536?utm_source=openai))\\n\\nThese trends indicate a transformative period for AI agents, impacting various sectors and prompting considerations for security, ethics, and integration. ']\n",
      "Thinking about report...\n",
      "Finished writing report\n",
      "Writing email...\n",
      "Sending email with subject 'Latest AI Agent Frameworks in 2025 - Report Summary' and body:\n",
      "<h1 style='color: #333;'>Latest AI Agent Frameworks in 2025</h1>\n",
      "<p>In recent years, artificial intelligence (AI) has dramatically evolved, particularly in the realm of AI agents. As of 2025, several robust frameworks have emerged that facilitate the creation and deployment of sophisticated AI agents. This report summarizes the key developments and trends shaping the landscape of AI agents.</p>\n",
      "\n",
      "<h2 style='color: #555;'>1. Emerging AI Agent Frameworks</h2>\n",
      "\n",
      "<h3 style='color: #777;'>1.1 Amazon Bedrock AgentCore</h3>\n",
      "<p>The <strong>Amazon Bedrock AgentCore</strong>, launched by AWS, has streamlined the deployment of AI agents by offering a comprehensive suite of tools tailored for scalable and secure implementations. Key features include controlled web browsing and secure API access, allowing businesses to deploy AI agents efficiently while maintaining a high level of security. This framework is designed for companies looking to integrate AI significantly into their operations without compromising on safety.</p>\n",
      "\n",
      "<h3 style='color: #777;'>1.2 OpenAI ChatGPT Agent</h3>\n",
      "<p>Released in July 2025, the <strong>OpenAI ChatGPT Agent</strong> stands out for its ability to autonomously handle complex tasks such as managing calendars and generating financial presentations. Despite its advanced functionalities, OpenAI advises caution when using this agent for high-stakes activities, highlighting the ongoing discussions regarding AI's reliability and decision-making capability in critical environments.</p>\n",
      "\n",
      "<h3 style='color: #777;'>1.3 AutoAgent</h3>\n",
      "<p>The <strong>AutoAgent</strong> platform represents a breakthrough in user accessibility by providing a fully automated, zero-code framework. Users can create and deploy large language model (LLM) agents through intuitive natural language instructions, which significantly reduces the barriers for those new to AI development. Organizations can leverage this framework to quickly scale their AI initiatives without requiring extensive technical knowledge.</p>\n",
      "\n",
      "<h3 style='color: #777;'>1.4 Eliza</h3>\n",
      "<p><strong>Eliza</strong> is an innovative, open-source framework that integrates seamlessly with Web3 and blockchain applications. Its decentralized nature promotes the development and deployment of AI agents in a blockchain environment, appealing to enterprises interested in leveraging decentralized technologies for operational efficiency.</p>\n",
      "\n",
      "<h3 style='color: #777;'>1.5 LangChain and LangGraph</h3>\n",
      "<p><strong>LangChain</strong> is recognized for its capabilities in building LLM-powered applications, specifically addressing challenges associated with context retention and multi-step task execution. In tandem, <strong>LangGraph</strong> emerges as an extension focusing on stateful, multi-agent systems, making it ideal for applications that require adaptability and complex workflows.</p>\n",
      "\n",
      "<h3 style='color: #777;'>1.6 AutoGen</h3>\n",
      "<p><strong>AutoGen</strong>, developed by Microsoft, orchestrates multiple AI agents into autonomous, event-driven systems capable of managing intricate multi-agent tasks. This framework enhances the efficiency of operations across industries that require collaborative reasoning and task execution among AI systems.</p>\n",
      "\n",
      "<h3 style='color: #777;'>1.7 CrewAI</h3>\n",
      "<p>Focusing on role-based AI agents, <strong>CrewAI</strong> is designed for collaborative problem-solving environments where diverse expertise is crucial. This framework enables teams to work together effectively with AI agents tailored to specific functions or tasks, thus fostering an inclusive approach to automation.</p>\n",
      "\n",
      "<h2 style='color: #555;'>2. Notable Industry Initiatives</h2>\n",
      "\n",
      "<h3 style='color: #777;'>2.1 Walmart's AI Super Agents</h3>\n",
      "<p>Prominent retailers like Walmart have embraced AI by introducing AI-powered \"super agents\" such as \"Sparky,\" aimed at enhancing e-commerce customer interactions and internal processes. This initiative is indicative of the broader trend of integrating AI agents into daily operational workflows, which seeks to optimize the customer experience and streamline service delivery.</p>\n",
      "\n",
      "<h3 style='color: #777;'>2.2 Multi-Agent Collaboration Systems</h3>\n",
      "<p>The evolution of AI agents has led to more sophisticated multi-agent collaboration systems. This trend signifies a growing move towards enabling AI agents to work in tandem, thereby enhancing efficiency and automating complex tasks across various sectors.</p>\n",
      "\n",
      "<h3 style='color: #777;'>2.3 Unified AI Ecosystems</h3>\n",
      "<p>Unified AI ecosystems are gaining momentum as distinct AI tools and agents are being integrated into coherent systems that streamline automation processes. This cohesive approach aims to develop comprehensive solutions that can handle multiple AI functionalities within a single framework.</p>\n",
      "\n",
      "<h3 style='color: #777;'>2.4 Edge AI and On-Device Intelligence</h3>\n",
      "<p>With increasing privacy concerns and the rise of the Internet of Things (IoT), the trend toward deploying AI directly on local devices is accelerating. <strong>Edge AI</strong> focuses on improving real-time processing capabilities, creating intelligent systems that operate efficiently without relying heavily on centralized data centers.</p>\n",
      "\n",
      "<h3 style='color: #777;'>2.5 Quantum Computing Integration</h3>\n",
      "<p>As industries explore quantum computing, its integration into AI frameworks is becoming a focal point. This exploration is expected to enhance AI agent capabilities in decision-making, optimization, and other complex computational tasks, thus paving the way for groundbreaking advancements in AI technologies.</p>\n",
      "\n",
      "<h2 style='color: #555;'>Conclusion</h2>\n",
      "<p>The year 2025 marks a transformative period for AI agent frameworks, with significant advancements that hold promise for various applications across industries. From frameworks like Amazon Bedrock AgentCore and OpenAI's ChatGPT Agent to initiatives in multi-agent collaboration and edge AI, the synergy between technology and automation is clear. As these frameworks develop further, considerations surrounding security, ethics, and ease of integration will be crucial to their successful deployment and adoption in real-world applications.</p>\n",
      "\n",
      "<h2 style='color: #555;'>Follow-Up Questions</h2>\n",
      "<ul>\n",
      "  <li>How will advancements in AI frameworks impact cybersecurity measures?</li>\n",
      "  <li>What ethical considerations should be addressed as AI agents become more autonomous?</li>\n",
      "  <li>How can businesses effectively integrate multiple AI agent frameworks into their existing systems?</li>\n",
      "  <li>What training and resources will be necessary for organizations adopting zero-code AI frameworks?</li>\n",
      "  <li>How might future developments in quantum computing influence AI agent capabilities?</li>\n",
      "</ul>\n",
      "Email sent\n",
      "Hooray!\n"
     ]
    }
   ],
   "source": [
    "query =\"Latest AI Agent frameworks in 2025\"\n",
    "\n",
    "with trace(\"Research trace\"):\n",
    "    print(\"Starting research...\")\n",
    "    search_plan = await plan_searches(query)\n",
    "    print(search_plan)\n",
    "    search_results = await perform_searches(search_plan)\n",
    "    print(search_results)\n",
    "    report = await write_report(query, search_results)\n",
    "    await send_email(report)\n",
    "    print(\"Hooray!\")"
   ]
  }
 ],
 "metadata": {
  "colab": {
   "provenance": []
  },
  "kernelspec": {
   "display_name": "DeepResearch",
   "language": "python",
   "name": "python3"
  },
  "language_info": {
   "codemirror_mode": {
    "name": "ipython",
    "version": 3
   },
   "file_extension": ".py",
   "mimetype": "text/x-python",
   "name": "python",
   "nbconvert_exporter": "python",
   "pygments_lexer": "ipython3",
   "version": "3.12.7"
  }
 },
 "nbformat": 4,
 "nbformat_minor": 5
}
